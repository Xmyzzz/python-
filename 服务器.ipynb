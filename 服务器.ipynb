{
 "cells": [
  {
   "cell_type": "code",
   "execution_count": 1,
   "metadata": {},
   "outputs": [],
   "source": [
    "import tkinter\n",
    "import socket,threading"
   ]
  },
  {
   "cell_type": "code",
   "execution_count": 14,
   "metadata": {},
   "outputs": [],
   "source": [
    "win = tkinter.Tk()   \n",
    "win.title('期末作业服务器')\n",
    "win.geometry(\"400x400+200+20\")\n",
    "users = {}\n",
    "\n",
    "def run(ad,ca):\n",
    "    userName = ad.recv(1024)\n",
    "    users[userName.decode(\"utf-8\")] = ad\n",
    "    printStr = \"\" + userName.decode(\"utf-8\") + \"连接\\n\"\n",
    "    text.insert(tkinter.INSERT,printStr)\n",
    "\n",
    "    while True:\n",
    "        rData = ad.recv(1024)\n",
    "        dataStr = rData.decode(\"utf-8\")\n",
    "        infolist = dataStr.split(\":\")\n",
    "        users[infolist[0]].send((userName.decode(\"utf-8\") + \"发言\" + infolist[1]).encode(\"utf\"))\n",
    "def start():\n",
    "    ipStr = eip.get()\n",
    "    portStr = eport.get()\n",
    "    server = socket.socket(socket.AF_INET,socket.SOCK_STREAM)\n",
    "    server.bind((ipStr,int(portStr)))\n",
    "    server.listen(15)\n",
    "    printStr = \"服务器启动成功\\n\"\n",
    "    text.insert(tkinter.INSERT,printStr)\n",
    "    while True:\n",
    "        ad,ca = server.accept()\n",
    "        t = threading.Thread(target=run,args=(ad,ca))\n",
    "        t.start()\n",
    "\n",
    "def startSever():\n",
    "    w = threading.Thread(target=start)\n",
    "    w.start()\n",
    "\n",
    "labelIp = tkinter.Label(win,text='ip').grid(row=0,column=0)\n",
    "labelPort = tkinter.Label(win,text='port').grid(row=1,column=0)\n",
    "eip = tkinter.Variable()\n",
    "eport = tkinter.Variable()\n",
    "entryIp = tkinter.Entry(win,textvariable=eip).grid(row=0,column=1)\n",
    "entryPort = tkinter.Entry(win,textvariable=eport).grid(row=1,column=1)\n",
    "button = tkinter.Button(win,text=\"启动\",command=startSever).grid(row=2,column=0)\n",
    "text = tkinter.Text(win,height=5,width=30)\n",
    "labeltext = tkinter.Label(win,text='连接消息').grid(row=3,column=0)\n",
    "text.grid(row=3,column=1)\n",
    "win.mainloop()"
   ]
  },
  {
   "cell_type": "code",
   "execution_count": null,
   "metadata": {},
   "outputs": [],
   "source": []
  }
 ],
 "metadata": {
  "kernelspec": {
   "display_name": "Python 3",
   "language": "python",
   "name": "python3"
  },
  "language_info": {
   "codemirror_mode": {
    "name": "ipython",
    "version": 3
   },
   "file_extension": ".py",
   "mimetype": "text/x-python",
   "name": "python",
   "nbconvert_exporter": "python",
   "pygments_lexer": "ipython3",
   "version": "3.7.6"
  }
 },
 "nbformat": 4,
 "nbformat_minor": 4
}
